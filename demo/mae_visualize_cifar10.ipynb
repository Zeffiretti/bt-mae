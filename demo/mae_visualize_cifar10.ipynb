{
 "cells": [
  {
   "cell_type": "markdown",
   "id": "15c2148f-c1b0-46e0-87f6-2db29e13d5b8",
   "metadata": {},
   "source": [
    "## Masked Autoencoders: Visualization Demo\n",
    "\n",
    "This is a visualization demo using our pre-trained MAE models. No GPU is needed."
   ]
  },
  {
   "cell_type": "markdown",
   "id": "fffa39c9-ca9b-4da0-90a4-de96bebbf755",
   "metadata": {},
   "source": [
    "### Prepare\n",
    "Check environment. Install packages if in Colab.\n"
   ]
  },
  {
   "cell_type": "code",
   "execution_count": 61,
   "id": "1eae7403-f458-4f55-a557-4e045bd6f679",
   "metadata": {},
   "outputs": [],
   "source": [
    "import sys\n",
    "import os\n",
    "import requests\n",
    "\n",
    "import torch\n",
    "import numpy as np\n",
    "\n",
    "import matplotlib.pyplot as plt\n",
    "from PIL import Image\n",
    "\n",
    "# check whether run in Colab\n",
    "if 'google.colab' in sys.modules:\n",
    "    print('Running in Colab.')\n",
    "    !pip3 install timm==0.4.5  # 0.3.2 does not work in Colab\n",
    "    !git clone https://github.com/facebookresearch/mae.git\n",
    "    sys.path.append('./mae')\n",
    "else:\n",
    "    sys.path.append('..')\n",
    "import models_bmae"
   ]
  },
  {
   "cell_type": "markdown",
   "id": "2f7797ef-412a-439f-911e-3be294047629",
   "metadata": {},
   "source": [
    "### Define utils"
   ]
  },
  {
   "cell_type": "code",
   "execution_count": 62,
   "id": "4573e6be-935a-4106-8c06-e467552b0e3d",
   "metadata": {},
   "outputs": [],
   "source": [
    "# define the utils\n",
    "\n",
    "imagenet_mean = np.array([0.485, 0.456, 0.406])\n",
    "imagenet_std = np.array([0.229, 0.224, 0.225])\n",
    "\n",
    "\n",
    "def show_image(image, title=\"\"):\n",
    "    # image is [H, W, 3]\n",
    "    assert image.shape[2] == 3\n",
    "    plt.imshow(torch.clip((image * imagenet_std + imagenet_mean) * 255, 0, 255).int())\n",
    "    plt.title(title, fontsize=16)\n",
    "    plt.axis(\"off\")\n",
    "    return\n",
    "\n",
    "\n",
    "def prepare_model(chkpt_dir, arch=\"bmae_deit_tiny_patch4\"):\n",
    "    # build model\n",
    "    model = getattr(models_bmae, arch)()\n",
    "    # load model\n",
    "    checkpoint = torch.load(chkpt_dir, map_location=\"cpu\", weights_only=False)\n",
    "    msg = model.load_state_dict(checkpoint[\"model\"], strict=False)\n",
    "    print(msg)\n",
    "    return model\n",
    "\n",
    "\n",
    "def run_one_image(img, model, ckpt_name=\"\"):\n",
    "    x = torch.tensor(img)\n",
    "\n",
    "    # make it a batch-like\n",
    "    x = x.unsqueeze(dim=0)\n",
    "    x = torch.einsum(\"nhwc->nchw\", x)\n",
    "\n",
    "    # run MAE\n",
    "    loss, y, mask = model(x.float(), mask_ratio=0.75)\n",
    "    y = model.unpatchify(y)\n",
    "    y = torch.einsum(\"nchw->nhwc\", y).detach().cpu()\n",
    "\n",
    "    # visualize the mask\n",
    "    mask = mask.detach()\n",
    "    mask = mask.unsqueeze(-1).repeat(1, 1, model.patch_embed.patch_size[0] ** 2 * 3)  # (N, H*W, p*p*3)\n",
    "    mask = model.unpatchify(mask)  # 1 is removing, 0 is keeping\n",
    "    mask = torch.einsum(\"nchw->nhwc\", mask).detach().cpu()\n",
    "\n",
    "    x = torch.einsum(\"nchw->nhwc\", x)\n",
    "\n",
    "    # masked image\n",
    "    im_masked = x * (1 - mask)\n",
    "\n",
    "    # MAE reconstruction pasted with visible patches\n",
    "    im_paste = x * (1 - mask) + y * mask\n",
    "\n",
    "    # make the plt figure larger\n",
    "    plt.rcParams[\"figure.figsize\"] = [24, 24]\n",
    "\n",
    "    plt.subplot(1, 4, 1)\n",
    "    show_image(x[0], \"original\")\n",
    "\n",
    "    plt.subplot(1, 4, 2)\n",
    "    show_image(im_masked[0], \"masked\")\n",
    "\n",
    "    plt.subplot(1, 4, 3)\n",
    "    show_image(y[0], \"reconstruction\")\n",
    "\n",
    "    plt.subplot(1, 4, 4)\n",
    "    show_image(im_paste[0], \"reconstruction + visible\")\n",
    "    if ckpt_name:\n",
    "        plt.savefig(\"../results/\" + ckpt_name + \".png\", bbox_inches=\"tight\")\n",
    "\n",
    "    plt.show()"
   ]
  },
  {
   "cell_type": "markdown",
   "id": "a92a06e7-3b6d-4c33-9eb2-15e560a4ce42",
   "metadata": {},
   "source": [
    "### Load an image"
   ]
  },
  {
   "cell_type": "code",
   "execution_count": 63,
   "id": "27755296-05cc-4344-90de-a8ab3878f485",
   "metadata": {},
   "outputs": [
    {
     "data": {
      "image/png": "[encoded data removed]",
      "text/plain": [
       "<Figure size 500x500 with 1 Axes>"
      ]
     },
     "metadata": {},
     "output_type": "display_data"
    }
   ],
   "source": [
    "# load an image\n",
    "# img_url = \"https://github.com/YoongiKim/CIFAR-10-images/blob/master/test/airplane/0021.jpg?raw=true\"  # airplane\n",
    "img_url = \"https://github.com/YoongiKim/CIFAR-10-images/blob/master/test/cat/0003.jpg?raw=true\"  # cat\n",
    "# img_url = 'https://user-images.githubusercontent.com/11435359/147743081-0428eecf-89e5-4e07-8da5-a30fd73cc0ba.jpg' # cucumber, from ILSVRC2012_val_00047851\n",
    "img = Image.open(requests.get(img_url, stream=True).raw)\n",
    "img = img.resize((32, 32))\n",
    "img = np.array(img) / 255.0\n",
    "\n",
    "assert img.shape == (32, 32, 3)\n",
    "\n",
    "# normalize by ImageNet mean and std\n",
    "img = img - imagenet_mean\n",
    "img = img / imagenet_std\n",
    "\n",
    "plt.rcParams[\"figure.figsize\"] = [5, 5]\n",
    "show_image(torch.tensor(img))"
   ]
  },
  {
   "cell_type": "markdown",
   "id": "8b7e691d-93d2-439f-91d6-c22716a897b5",
   "metadata": {},
   "source": [
    "### Load a pre-trained MAE model"
   ]
  },
  {
   "cell_type": "code",
   "execution_count": null,
   "id": "fd2d7da9-f75c-4b27-a84b-6d1247f73a7d",
   "metadata": {},
   "outputs": [
    {
     "name": "stdout",
     "output_type": "stream",
     "text": [
      "Use new feature predictor: False\n",
      "_IncompatibleKeys(missing_keys=[], unexpected_keys=['feature_mask_token', 'feature_pos_embed', 'feature_embed.weight', 'feature_embed.bias', 'feature_blocks.0.norm1.weight', 'feature_blocks.0.norm1.bias', 'feature_blocks.0.attn.qkv.weight', 'feature_blocks.0.attn.qkv.bias', 'feature_blocks.0.attn.proj.weight', 'feature_blocks.0.attn.proj.bias', 'feature_blocks.0.norm2.weight', 'feature_blocks.0.norm2.bias', 'feature_blocks.0.mlp.fc1.weight', 'feature_blocks.0.mlp.fc1.bias', 'feature_blocks.0.mlp.fc2.weight', 'feature_blocks.0.mlp.fc2.bias', 'feature_blocks.1.norm1.weight', 'feature_blocks.1.norm1.bias', 'feature_blocks.1.attn.qkv.weight', 'feature_blocks.1.attn.qkv.bias', 'feature_blocks.1.attn.proj.weight', 'feature_blocks.1.attn.proj.bias', 'feature_blocks.1.norm2.weight', 'feature_blocks.1.norm2.bias', 'feature_blocks.1.mlp.fc1.weight', 'feature_blocks.1.mlp.fc1.bias', 'feature_blocks.1.mlp.fc2.weight', 'feature_blocks.1.mlp.fc2.bias', 'feature_blocks.2.norm1.weight', 'feature_blocks.2.norm1.bias', 'feature_blocks.2.attn.qkv.weight', 'feature_blocks.2.attn.qkv.bias', 'feature_blocks.2.attn.proj.weight', 'feature_blocks.2.attn.proj.bias', 'feature_blocks.2.norm2.weight', 'feature_blocks.2.norm2.bias', 'feature_blocks.2.mlp.fc1.weight', 'feature_blocks.2.mlp.fc1.bias', 'feature_blocks.2.mlp.fc2.weight', 'feature_blocks.2.mlp.fc2.bias', 'feature_blocks.3.norm1.weight', 'feature_blocks.3.norm1.bias', 'feature_blocks.3.attn.qkv.weight', 'feature_blocks.3.attn.qkv.bias', 'feature_blocks.3.attn.proj.weight', 'feature_blocks.3.attn.proj.bias', 'feature_blocks.3.norm2.weight', 'feature_blocks.3.norm2.bias', 'feature_blocks.3.mlp.fc1.weight', 'feature_blocks.3.mlp.fc1.bias', 'feature_blocks.3.mlp.fc2.weight', 'feature_blocks.3.mlp.fc2.bias', 'feature_norm.weight', 'feature_norm.bias', 'feature_pred.weight', 'feature_pred.bias'])\n",
      "Model loaded.\n"
     ]
    }
   ],
   "source": [
    "# This is an MAE model trained with pixels as targets for visualization (ViT-Large, training mask ratio=0.75)\n",
    "\n",
    "# download checkpoint if not exist\n",
    "# !wget -nc https://dl.fbaipublicfiles.com/mae/visualize/mae_visualize_vit_large.pth\n",
    "\n",
    "chkpt_dir = \"../checkpoints/pretrain-ema.pth\"\n",
    "# chkpt_dir = \"../checkpoints/pretrain-ema-newpred.pth\"\n",
    "# chkpt_dir = \"../checkpoints/pretrain-k2-layer12-newpred.pth\"\n",
    "# chkpt_dir = \"../checkpoints/pretrain-k4-layer12-newpred.pth\"\n",
    "# chkpt_dir = \"../checkpoints/pretrain-k5-layer12-newpred.pth\"\n",
    "# chkpt_dir = \"../checkpoints/pretrain-k8-layer12-newpred.pth\"\n",
    "# chkpt_dir = \"../checkpoints/pretrain-k10-layer12-newpred.pth\"\n",
    "# chkpt_dir = \"../checkpoints/pretrain-k20-layer12-newpred.pth\"\n",
    "\n",
    "model_mae = prepare_model(chkpt_dir, \"bmae_deit_tiny_patch4\")\n",
    "print(\"Model loaded.\")\n",
    "ckpt_name = chkpt_dir.split(\"/\")[-1][:-4]"
   ]
  },
  {
   "cell_type": "markdown",
   "id": "7d15a0a7-c093-439a-9a4d-c37ce0c0eaa6",
   "metadata": {},
   "source": [
    "### Run MAE on the image"
   ]
  },
  {
   "cell_type": "code",
   "execution_count": 65,
   "id": "1b0eb444-e403-44a9-a370-ff2326f78f30",
   "metadata": {},
   "outputs": [
    {
     "name": "stdout",
     "output_type": "stream",
     "text": [
      "MAE with pixel reconstruction:\n"
     ]
    },
    {
     "data": {
      "image/png": "[encoded data removed]",
      "text/plain": [
       "<Figure size 2400x2400 with 4 Axes>"
      ]
     },
     "metadata": {},
     "output_type": "display_data"
    }
   ],
   "source": [
    "# make random mask reproducible (comment out to make it change)\n",
    "torch.manual_seed(2)\n",
    "print(\"MAE with pixel reconstruction:\")\n",
    "run_one_image(img, model_mae, ckpt_name)\n",
    "# save the figure in '../results/'\n",
    "# plt.savefig(f\"../results/{ckpt_name}.png\")"
   ]
  }
 ],
 "metadata": {
  "kernelspec": {
   "display_name": "vae",
   "language": "python",
   "name": "python3"
  },
  "language_info": {
   "codemirror_mode": {
    "name": "ipython",
    "version": 3
   },
   "file_extension": ".py",
   "mimetype": "text/x-python",
   "name": "python",
   "nbconvert_exporter": "python",
   "pygments_lexer": "ipython3",
   "version": "3.10.16"
  }
 },
 "nbformat": 4,
 "nbformat_minor": 5
}
